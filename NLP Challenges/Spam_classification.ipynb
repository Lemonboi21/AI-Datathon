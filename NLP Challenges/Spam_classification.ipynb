{
  "cells": [
    {
      "cell_type": "markdown",
      "metadata": {
        "id": "mJbXjKkKIS1e"
      },
      "source": [
        " **Unzip the file**"
      ]
    },
    {
      "cell_type": "code",
      "execution_count": 2,
      "metadata": {
        "id": "7L6gyHrcoGWu"
      },
      "outputs": [],
      "source": [
        "import zipfile\n",
        "import os\n",
        "\n",
        "def extract(zip_file_path, extracted_dir):\n",
        "    os.makedirs(extracted_dir, exist_ok=True)\n",
        "    with zipfile.ZipFile(zip_file_path, 'r') as zip_ref:\n",
        "        zip_ref.extractall(extracted_dir)\n",
        "\n",
        "    for filename in os.listdir(extracted_dir):\n",
        "        file_path = os.path.join(extracted_dir, filename)\n",
        "        if os.path.isfile(file_path):\n",
        "            with open(file_path, 'r', encoding='utf-8') as file:\n",
        "                content = file.read()\n",
        "\n",
        "# Usage example:\n",
        "easy_ham = 'easy_ham.zip'\n",
        "hard_ham = 'hard_ham.zip'\n",
        "spam = 'spam_2.zip'\n",
        "\n",
        "extracted_dir = 'data/'\n",
        "extract(easy_ham, extracted_dir)\n",
        "extract(hard_ham, extracted_dir)\n",
        "extract(spam, extracted_dir)\n"
      ]
    },
    {
      "cell_type": "markdown",
      "metadata": {
        "id": "clQh1J6Hwsrt"
      },
      "source": [
        "**cleaning data**"
      ]
    },
    {
      "cell_type": "code",
      "execution_count": 3,
      "metadata": {
        "id": "iulcQHa1yIv-"
      },
      "outputs": [],
      "source": [
        "import re\n",
        "import os\n",
        "\n",
        "def clean_text(text):\n",
        "  text = re.sub(r'[^\\w\\s]', '', text) #to remove ponctuation\n",
        "  text = re.sub(r'\\d+', '', text) #to remove spacing\n",
        "  text = text.lower()\n",
        "\n",
        "  return text\n",
        "\n",
        "def clean_files_in_directory(directory):\n",
        "    cleaned_files = []\n",
        "    for root, _, files in os.walk(directory):\n",
        "        for file_name in files:\n",
        "            file_path = os.path.join(root, file_name)\n",
        "            try:\n",
        "                with open(file_path, 'r', encoding='utf-8') as file:\n",
        "                    text = file.read()\n",
        "                    cleaned_text = clean_text(text)\n",
        "                    cleaned_files.append((file_path, cleaned_text))\n",
        "            except UnicodeDecodeError:\n",
        "                # Try opening the file with a different encoding\n",
        "                with open(file_path, 'r', encoding='latin-1') as file:\n",
        "                    text = file.read()\n",
        "                    cleaned_text = clean_text(text)\n",
        "                    cleaned_files.append((file_path, cleaned_text))\n",
        "    return cleaned_files\n",
        "\n",
        "\n",
        "root_directory = 'easy_ham'\n",
        "\n",
        "cleaned_files = clean_files_in_directory(root_directory)\n",
        "\n",
        "for file_path, cleaned_text in cleaned_files:\n",
        "    print(f\"File: {file_path}\")\n",
        "    print(f\"Cleaned text: {cleaned_text}\")\n",
        "    print(\"---------------------------------------------\")"
      ]
    },
    {
      "cell_type": "markdown",
      "metadata": {
        "id": "3WjfXxMP5uTV"
      },
      "source": [
        "**Tokenization**"
      ]
    },
    {
      "cell_type": "code",
      "execution_count": 4,
      "metadata": {
        "colab": {
          "base_uri": "https://localhost:8080/"
        },
        "id": "-q3F6fts_GMP",
        "outputId": "2f69b3b7-aa8f-45a8-9c73-d1f260212d3d"
      },
      "outputs": [
        {
          "name": "stderr",
          "output_type": "stream",
          "text": [
            "[nltk_data] Downloading package punkt to /root/nltk_data...\n",
            "[nltk_data]   Unzipping tokenizers/punkt.zip.\n"
          ]
        }
      ],
      "source": [
        "import nltk\n",
        "from nltk.tokenize import word_tokenize\n",
        "\n",
        "\n",
        "nltk.download('punkt')\n",
        "\n",
        "\n",
        "def tokenize_text(cleaned_text):\n",
        "    tokens = word_tokenize(cleaned_text)\n",
        "    tokens = [token.lower() for token in tokens] #to convert to lowercase\n",
        "    return tokens\n",
        "\n",
        "\n",
        "for file_path, cleaned_text in cleaned_files:\n",
        "\n",
        "    tokens = tokenize_text(cleaned_text)\n",
        "\n",
        "    print(f\"Tokens for {file_path}:\")\n",
        "    print(tokens)\n",
        "    print(\"---------------------------------------------\")\n"
      ]
    },
    {
      "cell_type": "markdown",
      "metadata": {
        "id": "gygCITTKCXa8"
      },
      "source": [
        "**remove stopwords from the text token**"
      ]
    },
    {
      "cell_type": "code",
      "execution_count": 5,
      "metadata": {
        "colab": {
          "base_uri": "https://localhost:8080/"
        },
        "id": "Ig-GaqP6Eht4",
        "outputId": "4200739f-4d23-446c-fc2b-0d3d1062e7a2"
      },
      "outputs": [
        {
          "name": "stderr",
          "output_type": "stream",
          "text": [
            "[nltk_data] Downloading package stopwords to /root/nltk_data...\n",
            "[nltk_data]   Unzipping corpora/stopwords.zip.\n"
          ]
        }
      ],
      "source": [
        "import nltk\n",
        "from nltk.corpus import stopwords\n",
        "\n",
        "nltk.download('stopwords')\n",
        "\n",
        "stop_words = set(stopwords.words('english'))\n",
        "\n",
        "all_tokens_without_stopwords = []\n",
        "\n",
        "for file_path, cleaned_text in cleaned_files:\n",
        "\n",
        "    tokens = word_tokenize(cleaned_text)\n",
        "\n",
        "    tokens_without_stopwords = [token for token in tokens if token.lower() not in stop_words] #here is the tokens after removing stopwords\n",
        "\n",
        "    all_tokens_without_stopwords.append((file_path, tokens_without_stopwords))\n",
        "\n",
        "for file_path, tokens_without_stopwords in all_tokens_without_stopwords:\n",
        "    print(f\"File: {file_path}\")\n",
        "    print(\"Tokens without stopwords:\")\n",
        "    print(tokens_without_stopwords)\n",
        "    print(\"---------------------------------------------\")"
      ]
    }
  ],
  "metadata": {
    "colab": {
      "provenance": []
    },
    "kernelspec": {
      "display_name": "Python 3",
      "name": "python3"
    },
    "language_info": {
      "name": "python"
    }
  },
  "nbformat": 4,
  "nbformat_minor": 0
}
